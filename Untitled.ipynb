{
 "cells": [
  {
   "cell_type": "code",
   "execution_count": 1,
   "metadata": {},
   "outputs": [
    {
     "name": "stdout",
     "output_type": "stream",
     "text": [
      "tensorflowShizz\n",
      "makedir\n",
      "load mnist data\n",
      "Model: \"functional_1\"\n",
      "_________________________________________________________________\n",
      "Layer (type)                 Output Shape              Param #   \n",
      "=================================================================\n",
      "input_1 (InputLayer)         [(None, 28, 28, 1)]       0         \n",
      "_________________________________________________________________\n",
      "conv2d (Conv2D)              (None, 13, 13, 4)         36        \n",
      "_________________________________________________________________\n",
      "flatten (Flatten)            (None, 676)               0         \n",
      "_________________________________________________________________\n",
      "dropout (Dropout)            (None, 676)               0         \n",
      "_________________________________________________________________\n",
      "dense (Dense)                (None, 10)                6760      \n",
      "=================================================================\n",
      "Total params: 6,796\n",
      "Trainable params: 6,796\n",
      "Non-trainable params: 0\n",
      "_________________________________________________________________\n",
      "938/938 - 3s - loss: 0.5604 - accuracy: 0.8525 - val_loss: 0.2947 - val_accuracy: 0.9181\n"
     ]
    }
   ],
   "source": [
    "import train_model"
   ]
  },
  {
   "cell_type": "code",
   "execution_count": 2,
   "metadata": {},
   "outputs": [],
   "source": [
    "import make_config"
   ]
  },
  {
   "cell_type": "code",
   "execution_count": 4,
   "metadata": {},
   "outputs": [
    {
     "name": "stdout",
     "output_type": "stream",
     "text": [
      "\n",
      "SNN toolbox WARNING: Delay (0.0) must be at least one time step (0.1). Setting delay = dt.\n",
      "\n",
      "SNN toolbox WARNING: For optimal correspondence between the original ANN and the converted SNN simulated on pyNN, the threshold should be 0.01. Current value: 1.0.\n",
      "Initializing spiNNaker simulator...\n",
      "\n"
     ]
    },
    {
     "name": "stderr",
     "output_type": "stream",
     "text": [
      "2021-02-02 12:25:04 INFO: Read cfg files: C:\\Users\\rjpbe\\Anaconda3\\envs\\neuromorphic\\lib\\site-packages\\spinn_front_end_common\\interface\\spinnaker.cfg, C:\\Users\\rjpbe\\Anaconda3\\envs\\neuromorphic\\lib\\site-packages\\spynnaker\\pyNN\\spynnaker.cfg, C:\\Users\\rjpbe\\.spynnaker.cfg\n",
      "2021-02-02 12:25:04 INFO: Will search these locations for binaries: C:\\Users\\rjpbe\\Anaconda3\\envs\\neuromorphic\\lib\\site-packages\\spinn_front_end_common\\common_model_binaries : C:\\Users\\rjpbe\\Anaconda3\\envs\\neuromorphic\\lib\\site-packages\\spynnaker\\pyNN\\model_binaries\n",
      "2021-02-02 12:25:04 WARNING: C:\\Users\\rjpbe\\Desktop\\TUM\\NISE\\project\\Spin\\reports has 3 old reports that have not been closed\n",
      "2021-02-02 12:25:04 WARNING: A timestep was entered that has forced sPyNNaker to automatically slow the simulation down from real time by a factor of 10. To remove this automatic behaviour, please enter a timescaleFactor value in your .spynnaker.cfg\n",
      "2021-02-02 12:25:04 INFO: Setting time scale factor to 10.\n",
      "2021-02-02 12:25:04 INFO: Setting machine time step to 100 micro-seconds.\n"
     ]
    },
    {
     "name": "stdout",
     "output_type": "stream",
     "text": [
      "['C:\\\\Users\\\\rjpbe\\\\Anaconda3\\\\envs\\\\neuromorphic\\\\lib\\\\site-packages\\\\spinn_front_end_common\\\\interface\\\\spinnaker.cfg', 'C:\\\\Users\\\\rjpbe\\\\Anaconda3\\\\envs\\\\neuromorphic\\\\lib\\\\site-packages\\\\spynnaker\\\\pyNN\\\\spynnaker.cfg', 'C:\\\\Users\\\\rjpbe\\\\.spynnaker.cfg']\n",
      "Loading data set from '.npz' files in C:\\Users\\rjpbe\\Desktop\\TUM\\NISE\\project\\Spin.\n",
      "\n",
      "Model: \"functional_1\"\n",
      "_________________________________________________________________\n",
      "Layer (type)                 Output Shape              Param #   \n",
      "=================================================================\n",
      "input_1 (InputLayer)         [(None, 28, 28, 1)]       0         \n",
      "_________________________________________________________________\n",
      "conv2d (Conv2D)              (None, 13, 13, 4)         36        \n",
      "_________________________________________________________________\n",
      "flatten (Flatten)            (None, 676)               0         \n",
      "_________________________________________________________________\n",
      "dropout (Dropout)            (None, 676)               0         \n",
      "_________________________________________________________________\n",
      "dense (Dense)                (None, 10)                6760      \n",
      "=================================================================\n",
      "Total params: 6,796\n",
      "Trainable params: 6,796\n",
      "Non-trainable params: 0\n",
      "_________________________________________________________________\n",
      "Evaluating input model on 5 samples...\n",
      "Top-1 accuracy: 100.00%\n",
      "Top-5 accuracy: 100.00%\n",
      "\n",
      "Parsing input model...\n",
      "Skipping layer InputLayer.\n",
      "Parsing layer Conv2D.\n",
      "Using activation relu.\n",
      "Parsing layer Flatten.\n",
      "Skipping layer Dropout.\n",
      "Parsing layer Dense.\n",
      "Using activation softmax.\n",
      "\n",
      "Building parsed model...\n",
      "\n",
      "Compiling parsed model...\n",
      "\n",
      "Model: \"functional_3\"\n",
      "_________________________________________________________________\n",
      "Layer (type)                 Output Shape              Param #   \n",
      "=================================================================\n",
      "input_1 (InputLayer)         [(1, 28, 28, 1)]          0         \n",
      "_________________________________________________________________\n",
      "0Conv2D_13x13x4 (Conv2D)     (1, 13, 13, 4)            40        \n",
      "_________________________________________________________________\n",
      "1Flatten_676 (Flatten)       (1, 676)                  0         \n",
      "_________________________________________________________________\n",
      "2Dense_10 (Dense)            (1, 10)                   6770      \n",
      "=================================================================\n",
      "Total params: 6,810\n",
      "Trainable params: 6,810\n",
      "Non-trainable params: 0\n",
      "_________________________________________________________________\n",
      "Evaluating parsed model on 5 samples...\n",
      "Top-1 accuracy: 100.00%\n",
      "Top-5 accuracy: 100.00%\n",
      "\n",
      "Building spiking model...\n",
      "Instantiating layer: 0Conv2D_13x13x4\n",
      "Building layer: 0Conv2D_13x13x4\n",
      "Transposing kernels.\n",
      "....\n",
      "Weights scaled by a factor of 99.99546021312976\n",
      "Instantiating layer: 1Flatten_676\n",
      "Building layer: 1Flatten_676\n",
      "Instantiating layer: 2Dense_10\n",
      "Building layer: 2Dense_10\n",
      "Weights scaled by a factor of 99.99546021312976\n",
      "(676, 10)\n",
      "Not swapping data_format of Flatten layer.\n",
      "Compiling spiking model...\n",
      "\n",
      "Number of operations of ANN: 25688\n",
      "Number of neurons: 686\n",
      "Number of synapses: 13484\n",
      "\n",
      "Not saving model to C:\\Users\\rjpbe\\Desktop\\TUM\\NISE\\project\\Spin...\n"
     ]
    },
    {
     "name": "stderr",
     "output_type": "stream",
     "text": [
      "C:\\Users\\rjpbe\\AppData\\Roaming\\Python\\Python38\\site-packages\\tensorflow\\python\\keras\\utils\\conv_utils.py:233: FutureWarning: Using a non-tuple sequence for multidimensional indexing is deprecated; use `arr[tuple(seq)]` instead of `arr[seq]`. In the future this will be interpreted as an array index, `arr[np.array(seq)]`, which will result either in an error or a different result.\n",
      "  return np.copy(kernel[slices])\n",
      "C:\\Users\\rjpbe\\AppData\\Roaming\\Python\\Python38\\site-packages\\snntoolbox\\simulation\\target_simulators\\spiNNaker_target_sim.py:114: RuntimeWarning: Activation 'softmax' not implemented. Using 'relu' activation instead.\n",
      "  warnings.warn(\"Activation 'softmax' not implemented. Using 'relu' \"\n"
     ]
    }
   ],
   "source": [
    "import convert"
   ]
  },
  {
   "cell_type": "code",
   "execution_count": 5,
   "metadata": {},
   "outputs": [
    {
     "name": "stdout",
     "output_type": "stream",
     "text": [
      "Job submitted\n"
     ]
    }
   ],
   "source": [
    "import client"
   ]
  },
  {
   "cell_type": "code",
   "execution_count": null,
   "metadata": {},
   "outputs": [],
   "source": []
  }
 ],
 "metadata": {
  "kernelspec": {
   "display_name": "Python [conda env:neuromorphic] *",
   "language": "python",
   "name": "conda-env-neuromorphic-py"
  },
  "language_info": {
   "codemirror_mode": {
    "name": "ipython",
    "version": 3
   },
   "file_extension": ".py",
   "mimetype": "text/x-python",
   "name": "python",
   "nbconvert_exporter": "python",
   "pygments_lexer": "ipython3",
   "version": "3.8.5"
  }
 },
 "nbformat": 4,
 "nbformat_minor": 4
}
